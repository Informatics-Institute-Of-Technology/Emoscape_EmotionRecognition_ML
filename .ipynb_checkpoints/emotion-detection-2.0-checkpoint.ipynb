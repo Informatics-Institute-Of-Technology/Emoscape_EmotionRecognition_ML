{
 "cells": [
  {
   "cell_type": "code",
   "execution_count": null,
   "metadata": {
    "id": "UWaocanKwofs"
   },
   "outputs": [],
   "source": [
    "import keras\n",
    "from keras.preprocessing.image import ImageDataGenerator\n",
    "from keras.models import Sequential\n",
    "from keras.layers import Dense, Dropout, Activation, Flatten, BatchNormalization\n",
    "from keras.layers import Conv2D, MaxPooling2D\n",
    "import os\n",
    "from keras.optimizers import RMSprop, SGD, Adam\n",
    "from keras.callbacks import ModelCheckpoint, EarlyStopping, ReduceLROnPlateau\n",
    "from tensorflow.keras.models import load_model"
   ]
  },
  {
   "cell_type": "code",
   "execution_count": null,
   "metadata": {
    "id": "t7NRpaEB5KWg"
   },
   "outputs": [],
   "source": [
    "!unzip train.zip\n",
    "!unzip validation.zip"
   ]
  },
  {
   "cell_type": "markdown",
   "metadata": {
    "id": "CJP8uPRM7hMr"
   },
   "source": [
    "defining the size of the image"
   ]
  },
  {
   "cell_type": "code",
   "execution_count": null,
   "metadata": {
    "id": "w1vZE_Jgw1dY"
   },
   "outputs": [],
   "source": [
    "\n",
    "img_rows, img_cols =48,48\n"
   ]
  },
  {
   "cell_type": "markdown",
   "metadata": {
    "id": "k20Vunm46sGb"
   },
   "source": [
    "path for the datasets"
   ]
  },
  {
   "cell_type": "code",
   "execution_count": null,
   "metadata": {
    "id": "e_Kj84EjyAcq"
   },
   "outputs": [],
   "source": [
    "train_data_dir='/content/train'\n",
    "validation_data_dir ='/content/validation'"
   ]
  },
  {
   "cell_type": "markdown",
   "metadata": {
    "id": "67MFO6446zoW"
   },
   "source": [
    "flipping and scaling for more variations of the same image"
   ]
  },
  {
   "cell_type": "code",
   "execution_count": null,
   "metadata": {
    "id": "D2i0n4JVybZj"
   },
   "outputs": [],
   "source": [
    "train_datagen= ImageDataGenerator(rescale=1./255,\n",
    "                                  rotation_range=30, \n",
    "                                  shear_range=0.3, \n",
    "                                  zoom_range=0.3, \n",
    "                                  width_shift_range=0.4, \n",
    "                                  height_shift_range=0.4, \n",
    "                                  horizontal_flip=True, \n",
    "                                  vertical_flip=True)"
   ]
  },
  {
   "cell_type": "code",
   "execution_count": null,
   "metadata": {
    "id": "h3xrSOJZ0erm"
   },
   "outputs": [],
   "source": [
    "validation_datagen=ImageDataGenerator(rescale=1./255)"
   ]
  },
  {
   "cell_type": "markdown",
   "metadata": {
    "id": "ELfjHQKi7XTk"
   },
   "source": [
    "following is provided for training."
   ]
  },
  {
   "cell_type": "code",
   "execution_count": null,
   "metadata": {
    "colab": {
     "base_uri": "https://localhost:8080/"
    },
    "executionInfo": {
     "elapsed": 12731,
     "status": "ok",
     "timestamp": 1605554490006,
     "user": {
      "displayName": "Hedrich Pio Fernando",
      "photoUrl": "https://lh3.googleusercontent.com/a-/AOh14GjEvkZHbgPvpJsICtJYFtQYSKD5I71UlGypVmiEVw=s64",
      "userId": "03837628725470110389"
     },
     "user_tz": -330
    },
    "id": "OsS27XjT1Pu3",
    "outputId": "09a3470a-f102-47c2-cd20-3d580584e73d"
   },
   "outputs": [
    {
     "name": "stdout",
     "output_type": "stream",
     "text": [
      "Found 24282 images belonging to 5 classes.\n"
     ]
    }
   ],
   "source": [
    "train_generator=train_datagen.flow_from_directory(train_data_dir,\n",
    "                                                  color_mode='grayscale',\n",
    "                                                  target_size=(img_rows,img_cols),\n",
    "                                                  batch_size=batch_size,\n",
    "                                                  class_mode='categorical',\n",
    "                                                  shuffle=True)"
   ]
  },
  {
   "cell_type": "code",
   "execution_count": null,
   "metadata": {
    "colab": {
     "base_uri": "https://localhost:8080/"
    },
    "executionInfo": {
     "elapsed": 13041,
     "status": "ok",
     "timestamp": 1605554490328,
     "user": {
      "displayName": "Hedrich Pio Fernando",
      "photoUrl": "https://lh3.googleusercontent.com/a-/AOh14GjEvkZHbgPvpJsICtJYFtQYSKD5I71UlGypVmiEVw=s64",
      "userId": "03837628725470110389"
     },
     "user_tz": -330
    },
    "id": "iOoiFfP82pyp",
    "outputId": "748c18dc-c3b9-44af-e7db-0ce4a1d234ec"
   },
   "outputs": [
    {
     "name": "stdout",
     "output_type": "stream",
     "text": [
      "Found 24282 images belonging to 5 classes.\n"
     ]
    }
   ],
   "source": [
    "validation_generator=validation_datagen.flow_from_directory(train_data_dir,\n",
    "                                                  color_mode='grayscale',\n",
    "                                                  target_size=(img_rows,img_cols),\n",
    "                                                  batch_size=batch_size,\n",
    "                                                  class_mode='categorical',\n",
    "                                                  shuffle=True)"
   ]
  },
  {
   "cell_type": "code",
   "execution_count": null,
   "metadata": {
    "id": "93t_3yVfUhli"
   },
   "outputs": [],
   "source": [
    "model = Sequential()"
   ]
  },
  {
   "cell_type": "markdown",
   "metadata": {
    "id": "Xa7wx-LpTK0o"
   },
   "source": [
    "CNN starts here.\n",
    "BLOCK 1"
   ]
  },
  {
   "cell_type": "code",
   "execution_count": null,
   "metadata": {
    "id": "uMmxssJi5NR1"
   },
   "outputs": [],
   "source": [
    "model.add(Conv2D(32,(3,3),padding='same',kernel_initializer='he_normal',input_shape=(img_rows,img_cols,1)))\n",
    "model.add(Activation('relu'))\n",
    "model.add(BatchNormalization())\n",
    "model.add(MaxPooling2D(pool_size=(2,2)))\n",
    "model.add(BatchNormalization())"
   ]
  },
  {
   "cell_type": "markdown",
   "metadata": {
    "id": "t3K5tKoVWkBb"
   },
   "source": [
    "BLOCK 2\n",
    "--No of neurons increased"
   ]
  },
  {
   "cell_type": "code",
   "execution_count": null,
   "metadata": {
    "id": "DefGZ8B5_us-"
   },
   "outputs": [],
   "source": [
    "model.add(Conv2D(64,(3,3),padding='same',kernel_initializer='he_normal'))\n",
    "model.add(Activation('relu'))\n",
    "model.add(BatchNormalization())\n",
    "model.add(MaxPooling2D(pool_size=(2,2)))\n",
    "model.add(BatchNormalization())"
   ]
  },
  {
   "cell_type": "markdown",
   "metadata": {
    "id": "DzSJGTIiXoZK"
   },
   "source": [
    "BLOCK 3 neurons furthur increased"
   ]
  },
  {
   "cell_type": "code",
   "execution_count": null,
   "metadata": {
    "id": "GMvVAuRK_uwc"
   },
   "outputs": [],
   "source": [
    "model.add(Conv2D(128,(3,3),padding='same',kernel_initializer='he_normal'))\n",
    "model.add(Activation('relu'))\n",
    "model.add(BatchNormalization())\n",
    "model.add(MaxPooling2D(pool_size=(2,2)))\n",
    "model.add(BatchNormalization())\n",
    "model.add(Dropout(0.4))"
   ]
  },
  {
   "cell_type": "markdown",
   "metadata": {
    "id": "OGSGX_j1X__Q"
   },
   "source": [
    "BLOCK 4 neurons increased"
   ]
  },
  {
   "cell_type": "markdown",
   "metadata": {
    "id": "zva6ueN-_uzB"
   },
   "source": [
    "model.add(Conv2D(256,(3,3),padding='same',kernel_initializer='he_normal'))\n",
    "model.add(Activation('relu'))\n",
    "model.add(BatchNormalization())\n",
    "model.add(MaxPooling2D(pool_size=(2,2)))\n",
    "model.add(BatchNormalization())\n",
    "model.add(Dropout(0.4))"
   ]
  },
  {
   "cell_type": "markdown",
   "metadata": {
    "id": "H9s4gGfWYLFm"
   },
   "source": [
    "BLOCK 5 Neurons Increased"
   ]
  },
  {
   "cell_type": "code",
   "execution_count": null,
   "metadata": {},
   "outputs": [],
   "source": [
    "model.add(Conv2D(512,(3,3),padding='same',kernel_initializer='he_normal'))\n",
    "model.add(Activation('relu'))\n",
    "model.add(BatchNormalization())\n",
    "model.add(MaxPooling2D(pool_size=(2,2)))\n",
    "model.add(BatchNormalization())\n",
    "model.add(Dropout(0.4))"
   ]
  },
  {
   "cell_type": "markdown",
   "metadata": {
    "id": "hhlG8r3ta69Z"
   },
   "source": [
    "BLOCK 6 Flatten and Dense layer"
   ]
  },
  {
   "cell_type": "code",
   "execution_count": null,
   "metadata": {
    "id": "35-4_Q2yYH8-"
   },
   "outputs": [],
   "source": [
    "model.add(Flatten())\n",
    "\n",
    "model.add(Dense(512, activation='relu'))\n",
    "model.add(BatchNormalization())\n",
    "\n",
    "model.add(Dense(num_classes, activation='softmax'))"
   ]
  },
  {
   "cell_type": "code",
   "execution_count": null,
   "metadata": {
    "id": "fT3z1ARtYIF1"
   },
   "outputs": [],
   "source": [
    "print(model.summary())"
   ]
  },
  {
   "cell_type": "markdown",
   "metadata": {
    "id": "RsTZZtxShbUP"
   },
   "source": [
    "Compiling the model"
   ]
  },
  {
   "cell_type": "code",
   "execution_count": null,
   "metadata": {},
   "outputs": [],
   "source": [
    "model.compile(loss='categorical_crossentropy',\n",
    "              optimizer='adam',\n",
    "              metrics=['accuracy'])\n",
    "\n",
    "\n",
    "nb_train_samples = 24282\n",
    "nb_validation_samples = 5937\n",
    "epochs = 50\n",
    "batch_size = 16\n",
    "num_classes = 5\n",
    "\n",
    "model.fit_generator(\n",
    "    train_generator,\n",
    "    steps_per_epoch=nb_train_samples // batch_size,\n",
    "    epochs=epochs,\n",
    "    validation_data=validation_generator,\n",
    "    validation_steps=nb_validation_samples // batch_size)\n",
    "\n",
    "\n",
    "model.save('Final_2_TrainedModel.h5')"
   ]
  }
 ],
 "metadata": {
  "accelerator": "GPU",
  "colab": {
   "authorship_tag": "ABX9TyNethK9AjZO8UxZdLZmJYRJ",
   "collapsed_sections": [],
   "mount_file_id": "1ztDq11Y5oLCLafQS_dxwnWmQAO5vgcv2",
   "name": "emotion-detection-2.0.ipynb",
   "provenance": []
  },
  "kernelspec": {
   "display_name": "Python 3",
   "language": "python",
   "name": "python3"
  },
  "language_info": {
   "codemirror_mode": {
    "name": "ipython",
    "version": 3
   },
   "file_extension": ".py",
   "mimetype": "text/x-python",
   "name": "python",
   "nbconvert_exporter": "python",
   "pygments_lexer": "ipython3",
   "version": "3.8.5"
  }
 },
 "nbformat": 4,
 "nbformat_minor": 1
}
